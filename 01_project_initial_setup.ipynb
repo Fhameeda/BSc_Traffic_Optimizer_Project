{
 "cells": [
  {
   "cell_type": "code",
   "execution_count": 1,
   "id": "26eee64f-387c-462c-8d9a-e85b6eaeb132",
   "metadata": {},
   "outputs": [
    {
     "name": "stdout",
     "output_type": "stream",
     "text": [
      "Project setup successful and all core libraries are ready for development\n"
     ]
    }
   ],
   "source": [
    "import numpy as np\n",
    "import pandas as pd\n",
    "import matplotlib.pyplot as plt\n",
    "import seaborn as sns\n",
    "import cv2 # For OpenCV\n",
    "\n",
    "print(\"Project setup successful and all core libraries are ready for development\")"
   ]
  },
  {
   "cell_type": "code",
   "execution_count": null,
   "id": "f3e2422e-e168-4150-8f57-c03f3cffa2e3",
   "metadata": {},
   "outputs": [],
   "source": []
  }
 ],
 "metadata": {
  "kernelspec": {
   "display_name": "Python 3 (ipykernel)",
   "language": "python",
   "name": "python3"
  },
  "language_info": {
   "codemirror_mode": {
    "name": "ipython",
    "version": 3
   },
   "file_extension": ".py",
   "mimetype": "text/x-python",
   "name": "python",
   "nbconvert_exporter": "python",
   "pygments_lexer": "ipython3",
   "version": "3.13.5"
  }
 },
 "nbformat": 4,
 "nbformat_minor": 5
}
